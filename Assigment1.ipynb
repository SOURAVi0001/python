{
 "cells": [
  {
   "cell_type": "code",
   "execution_count": 1,
   "id": "3b18c383-db06-4e3d-91c3-43d53d134bc7",
   "metadata": {},
   "outputs": [],
   "source": [
    "s=\"sourav\"\n",
    "l=[1,2,3,\"sourav\",True,1+2j]\n",
    "f=1.05\n",
    "t=(1,2,3,4)"
   ]
  },
  {
   "cell_type": "code",
   "execution_count": 6,
   "id": "94e24914-b898-4850-a2a7-450fda5cd80b",
   "metadata": {},
   "outputs": [
    {
     "name": "stdout",
     "output_type": "stream",
     "text": [
      "<class 'str'>\n",
      "<class 'str'>\n",
      "<class 'list'>\n",
      "<class 'int'>\n"
     ]
    }
   ],
   "source": [
    "var1='1'\n",
    "var2 = '[DS , ML , Python]'\n",
    "var3 = ['DS','ML','Python']\n",
    "var4 = 1\n",
    "print(type(var1))\n",
    "print(type(var2))\n",
    "print(type(var3))\n",
    "print(type(var4))"
   ]
  },
  {
   "cell_type": "code",
   "execution_count": 8,
   "id": "7c912b3d-8e59-43c0-aca3-b6598401850c",
   "metadata": {},
   "outputs": [
    {
     "data": {
      "text/plain": [
       "8"
      ]
     },
     "execution_count": 8,
     "metadata": {},
     "output_type": "execute_result"
    }
   ],
   "source": [
    "2**3"
   ]
  },
  {
   "cell_type": "code",
   "execution_count": 9,
   "id": "99675cf4-264d-4b24-9471-1087128db0bf",
   "metadata": {},
   "outputs": [
    {
     "data": {
      "text/plain": [
       "2.0"
      ]
     },
     "execution_count": 9,
     "metadata": {},
     "output_type": "execute_result"
    }
   ],
   "source": [
    "4/2"
   ]
  },
  {
   "cell_type": "code",
   "execution_count": 10,
   "id": "ca66694f-7941-47e4-b522-27b8b54fa95c",
   "metadata": {},
   "outputs": [
    {
     "data": {
      "text/plain": [
       "2"
      ]
     },
     "execution_count": 10,
     "metadata": {},
     "output_type": "execute_result"
    }
   ],
   "source": [
    "\n",
    "11//4"
   ]
  },
  {
   "cell_type": "code",
   "execution_count": 11,
   "id": "2015a52e-b121-40c8-868d-c01d107e688e",
   "metadata": {},
   "outputs": [
    {
     "data": {
      "text/plain": [
       "2"
      ]
     },
     "execution_count": 11,
     "metadata": {},
     "output_type": "execute_result"
    }
   ],
   "source": [
    "\n",
    "11%3"
   ]
  },
  {
   "cell_type": "code",
   "execution_count": 12,
   "id": "961e0e2f-a09d-44e8-a54c-dd133fb5a0e1",
   "metadata": {},
   "outputs": [],
   "source": [
    "l=[1,2,3,True,False,\"sourav\",4+3j,3,9.10]"
   ]
  },
  {
   "cell_type": "code",
   "execution_count": 13,
   "id": "33ee0615-4c50-4b1f-be73-f77e6f21b76e",
   "metadata": {},
   "outputs": [
    {
     "name": "stdout",
     "output_type": "stream",
     "text": [
      "<class 'int'>\n",
      "1\n",
      "<class 'int'>\n",
      "2\n",
      "<class 'int'>\n",
      "3\n",
      "<class 'bool'>\n",
      "True\n",
      "<class 'bool'>\n",
      "False\n",
      "<class 'str'>\n",
      "sourav\n",
      "<class 'complex'>\n",
      "(4+3j)\n",
      "<class 'int'>\n",
      "3\n",
      "<class 'float'>\n",
      "9.1\n"
     ]
    }
   ],
   "source": [
    "for i in l:\n",
    "    print(type(i))\n",
    "    print(i)"
   ]
  },
  {
   "cell_type": "code",
   "execution_count": 17,
   "id": "aae598a2-9729-4b1b-ba37-2f61d7048c6e",
   "metadata": {},
   "outputs": [
    {
     "name": "stdin",
     "output_type": "stream",
     "text": [
      " 16\n",
      " 2\n"
     ]
    },
    {
     "name": "stdout",
     "output_type": "stream",
     "text": [
      "4\n"
     ]
    }
   ],
   "source": [
    "count=0\n",
    "A=int(input())\n",
    "B=int(input())\n",
    "while A%B==0:\n",
    "    count+=1\n",
    "    A/=B\n",
    "    \n",
    "else: print(count)    "
   ]
  },
  {
   "cell_type": "code",
   "execution_count": 18,
   "id": "27c3d6b2-b691-4b0c-891a-e04fb34e3540",
   "metadata": {},
   "outputs": [],
   "source": [
    "l=list(range(25))"
   ]
  },
  {
   "cell_type": "code",
   "execution_count": 19,
   "id": "e4817086-92d9-43a1-82a0-723bee8eb031",
   "metadata": {},
   "outputs": [
    {
     "name": "stdout",
     "output_type": "stream",
     "text": [
      "0\n",
      "3\n",
      "6\n",
      "9\n",
      "12\n",
      "15\n",
      "18\n",
      "21\n",
      "24\n"
     ]
    }
   ],
   "source": [
    "for i in l:\n",
    "    if i%3==0:\n",
    "        print(i)\n",
    "    "
   ]
  },
  {
   "cell_type": "code",
   "execution_count": null,
   "id": "8f4adce3-de45-4359-bdf0-9a843c69dffa",
   "metadata": {},
   "outputs": [],
   "source": [
    "s=\"sourav\"\n",
    "s1=[1,2,3,4,\"sourav']\n",
    "    #in mutability we can change values at the index of data type ex: list.\n",
    "    #in immutable we can't change values at the indexes but we can only completely update or change the value."
   ]
  }
 ],
 "metadata": {
  "kernelspec": {
   "display_name": "Python 3 (ipykernel)",
   "language": "python",
   "name": "python3"
  },
  "language_info": {
   "codemirror_mode": {
    "name": "ipython",
    "version": 3
   },
   "file_extension": ".py",
   "mimetype": "text/x-python",
   "name": "python",
   "nbconvert_exporter": "python",
   "pygments_lexer": "ipython3",
   "version": "3.10.8"
  }
 },
 "nbformat": 4,
 "nbformat_minor": 5
}
